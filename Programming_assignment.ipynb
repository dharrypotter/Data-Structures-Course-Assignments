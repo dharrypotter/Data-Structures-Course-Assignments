{
  "cells": [
    {
      "cell_type": "code",
      "execution_count": null,
      "metadata": {
        "id": "SamhYe0ux4e1",
        "colab": {
          "base_uri": "https://localhost:8080/"
        },
        "outputId": "4d259b00-e9bb-493b-87fc-1376cf4f9e5b"
      },
      "outputs": [
        {
          "output_type": "stream",
          "name": "stdout",
          "text": [
            "enter a binary string:1001\n",
            "1001\n"
          ]
        },
        {
          "output_type": "execute_result",
          "data": {
            "text/plain": [
              "True"
            ]
          },
          "metadata": {},
          "execution_count": 1
        }
      ],
      "source": [
        "#Question 1: Even palindromes\n",
        "\n",
        "bin_string = input(\"enter a binary string:\")\n",
        "def even_palindrome(x): \n",
        " bin_string = x\n",
        " print(bin_string)\n",
        " if len(bin_string)%2!=0:\n",
        "   return False\n",
        " else:\n",
        "    rev = (bin_string)[::-1]\n",
        "    if rev!= bin_string:\n",
        "      return False\n",
        "    return True\n",
        "even_palindrome(bin_string)"
      ]
    },
    {
      "cell_type": "code",
      "source": [
        "#Question 3: Valid string\n",
        "count_zero=0\n",
        "count_one=0\n",
        "count_two=0\n",
        "n = input(\"Enter a string of 0s1s2s: \")\n",
        "a = list(n)\n",
        "print(a)\n",
        "string = [int(j) for j in a]\n",
        "print(string)\n",
        "\n",
        "def count(y):\n",
        " global count_zero\n",
        " global count_one\n",
        " global count_two\n",
        "\n",
        " for i in range(0,len(string)):\n",
        "   if string[i]==0:\n",
        "    count_zero = count_zero+1\n",
        "   elif string[i]==1:\n",
        "    count_one= count_one+1\n",
        "   elif string[i]==2:\n",
        "    count_two= count_two+1\n",
        "count(string)\n",
        "print(\"count of zeroes:\",count_zero)\n",
        "print(\"count of ones:\",count_one)\n",
        "print(\"count of twos:\", count_two)\n",
        "def valid_string(x):\n",
        " global count_zero\n",
        " global count_two\n",
        " global count_one\n",
        " if string[0]==0:\n",
        "    original_string = \"\".join([str(n) for n in string])\n",
        "    print(\"original string is: \",original_string)\n",
        "    y = str(0)*count_zero + str(1)* count_one + str(2)*count_two\n",
        "    print(\"count of 0s1s2s in given string: \",y)\n",
        "    if original_string == y:\n",
        "      print(\"Valid string\")\n",
        "    else:\n",
        "      print(\"Invalid string\")\n",
        "valid_string(string)"
      ],
      "metadata": {
        "id": "rD67lEJPA5gR",
        "colab": {
          "base_uri": "https://localhost:8080/"
        },
        "outputId": "45282b12-35c7-4c54-9102-747efb514908"
      },
      "execution_count": null,
      "outputs": [
        {
          "output_type": "stream",
          "name": "stdout",
          "text": [
            "Enter a string of 0s1s2s: 001122\n",
            "['0', '0', '1', '1', '2', '2']\n",
            "[0, 0, 1, 1, 2, 2]\n",
            "count of zeroes: 2\n",
            "count of ones: 2\n",
            "count of twos: 2\n",
            "original string is:  001122\n",
            "count of 0s1s2s in given string:  001122\n",
            "Valid string\n"
          ]
        }
      ]
    },
    {
      "cell_type": "code",
      "source": [
        "#Question 2: Valid sequence\n",
        "list1 = input(\"enter a list of i's and e's: \")\n",
        "print(list1)\n",
        "a2 = list(list1)\n",
        "print(a2)\n",
        "#string = [int(j) for j in a2]\n",
        "#print(string)\n",
        "count_i=0 \n",
        "count_e=0\n",
        "def checkvalid(a2):\n",
        "  global count_e\n",
        "  global count_i\n",
        "  if a2==\" \" :\n",
        "    print(\"Empty string\")\n",
        "  else:\n",
        "   for j in range(0,len(a2)):\n",
        "     if list1[j] ==\"i\":\n",
        "      count_i=count_i+1\n",
        "     #print(\"count_i is\",count_i)\n",
        "     elif list1[j] ==\"e\":\n",
        "      count_e=count_e+1\n",
        "     #print(\"count_e is\",count_e)\n",
        "  #seq_ie= str(\"i\")* count_i + str(\"e\")*count_e\n",
        "  #print(\"sequence of i's and e's:\",seq_ie)\n",
        "   if count_i>=count_e:\n",
        "    print(\"Valid\")\n",
        "   else: \n",
        "    print(\"Invalid\")\n",
        "checkvalid(list1)"
      ],
      "metadata": {
        "id": "-6Lyj7-5ppat",
        "colab": {
          "base_uri": "https://localhost:8080/"
        },
        "outputId": "fa0401e6-e839-455d-dc6d-ab2b0975ce47"
      },
      "execution_count": 1,
      "outputs": [
        {
          "output_type": "stream",
          "name": "stdout",
          "text": [
            "enter a list of i's and e's: ieieie\n",
            "ieieie\n",
            "['i', 'e', 'i', 'e', 'i', 'e']\n",
            "sequence of i's and e's: iiieee\n",
            "Invalid\n"
          ]
        }
      ]
    },
    {
      "cell_type": "code",
      "source": [
        "\n",
        "#Question 4: Longest run\n",
        "n = input(\"Enter a string of numbers:\")\n",
        "a1 = list(n)\n",
        "print(a1)\n",
        "s1 = [int(i) for i in a1]\n",
        "print(s1)\n",
        "longest_seq=0\n",
        "run_seq= 1\n",
        "def longestRun(x):\n",
        "  global longest_seq\n",
        "  global run_seq\n",
        "  for j in range(1,len(a1)):\n",
        "     if (s1[j]>=s1[j-1]):\n",
        "      run_seq= run_seq+1\n",
        "      if run_seq>longest_seq:\n",
        "       longest_seq= run_seq\n",
        "     else:\n",
        "       run_seq=1    \n",
        "print(longest_seq)\n",
        "longestRun(s1)\n",
        "print(\"longest run value is\",longest_seq)"
      ],
      "metadata": {
        "id": "GXJUDNhKAxMi",
        "colab": {
          "base_uri": "https://localhost:8080/"
        },
        "outputId": "fe119f8f-0d80-45fe-b299-52f5f89787cc"
      },
      "execution_count": null,
      "outputs": [
        {
          "output_type": "stream",
          "name": "stdout",
          "text": [
            "Enter a string of numbers:13423456789\n",
            "['1', '3', '4', '2', '3', '4', '5', '6', '7', '8', '9']\n",
            "[1, 3, 4, 2, 3, 4, 5, 6, 7, 8, 9]\n",
            "0\n",
            "longest run value is 8\n"
          ]
        }
      ]
    }
  ],
  "metadata": {
    "colab": {
      "name": "Programming assignment.ipynb",
      "provenance": [],
      "collapsed_sections": []
    },
    "kernelspec": {
      "display_name": "Python 3",
      "name": "python3"
    },
    "language_info": {
      "name": "python"
    }
  },
  "nbformat": 4,
  "nbformat_minor": 0
}