{
  "nbformat": 4,
  "nbformat_minor": 0,
  "metadata": {
    "colab": {
      "name": "Stacks_Programming_Assignment.ipynb",
      "provenance": [],
      "collapsed_sections": []
    },
    "kernelspec": {
      "name": "python3",
      "display_name": "Python 3"
    },
    "language_info": {
      "name": "python"
    }
  },
  "cells": [
    {
      "cell_type": "markdown",
      "source": [
        "\n",
        "\n",
        "---\n",
        "**Name: Dhara Awasthi** \n",
        "\n",
        "**Registration ID: 4973**\n",
        "\n",
        "**Title of Lab: Stacks Programming Assignment** \n",
        "\n",
        "**Date: 9th July 2022** \n",
        "\n",
        "---\n",
        "\n",
        "\n"
      ],
      "metadata": {
        "id": "VfmYbQH-VXPP"
      }
    },
    {
      "cell_type": "markdown",
      "source": [
        "# **Problem description:**\n",
        "The problem aims to check to check whether the string is balanced or not. By balanced we mean that each opening bracket is matched with its corresponding closing bracket and make sure the bracket pairs are properly nested within each other. \n",
        "\n",
        "## **Algorithm description**:\n",
        " The idea is to maintain two stacks and append the  the opening brackets and it's position in those stacks while traversing the string. Whenever a closing bracket appears, it tries to match the opening bracket in the stack and if it matches, the element is removed.\n"
      ],
      "metadata": {
        "id": "F52EbT0UcU9d"
      }
    },
    {
      "cell_type": "markdown",
      "source": [
        "# **Program:**"
      ],
      "metadata": {
        "id": "f9W3pGd76Zsi"
      }
    },
    {
      "cell_type": "code",
      "source": [
        "count = 0\n",
        "opening_brac = [\"[\",\"{\",\"(\"]\n",
        "closing_brac = [\"]\",\"}\",\")\"]\n",
        "def checkbalanced(string):\n",
        "    global count\n",
        "    position = []\n",
        "    stack = []\n",
        "    for i in string:\n",
        "        if i in opening_brac:\n",
        "            position_opening = opening_brac.index(i)\n",
        "            position.append(position_opening)\n",
        "            stack.append(i)\n",
        "            count = count +1 \n",
        "            if len(stack)==0 and (closing_brac[position_opening] != string.index(i)):\n",
        "              return count\n",
        "            top = stack[-1]\n",
        "        elif i in closing_brac:\n",
        "            position_closing = closing_brac.index(i)\n",
        "            count = count +1 \n",
        "            if (len(stack)==0) and (opening_brac[position_closing] not in string):\n",
        "                return 1\n",
        "            elif (len(stack)==0) and (opening_brac[position_closing] in string):\n",
        "                return len(string) \n",
        "            elif ((len(stack) > 0) and (opening_brac[position_closing] == stack[len(stack)-1])):\n",
        "                stack.pop()\n",
        "                position.pop()\n",
        "            elif ((len(stack) > 0) and (closing_brac[position_opening] == stack[len(stack)-1])):\n",
        "                return string.index(closing_brac[position_opening])\n",
        "            elif ((len(stack)>0 ) and top != closing_brac(position_opening)): \n",
        "                return count\n",
        "            else:\n",
        "                return string.index(i) +1\n",
        "        else:\n",
        "            count = count+1\n",
        "            continue\n",
        "    if len(stack)==0 and len(position) ==0 :\n",
        "      return print('Success')\n",
        "    elif len(stack)==0 and len(position)!=0:\n",
        "      return False\n",
        "    elif len(stack)!=0 and len(position)!=0:\n",
        "      return count\n",
        "    else:\n",
        "      return 1\n"
      ],
      "metadata": {
        "id": "-Q4B5D_mkkS_"
      },
      "execution_count": 13,
      "outputs": []
    },
    {
      "cell_type": "markdown",
      "source": [
        "# **Sample runs**"
      ],
      "metadata": {
        "id": "7BkTFTcpnosr"
      }
    },
    {
      "cell_type": "code",
      "source": [
        "checkbalanced(\"abc(def)\")"
      ],
      "metadata": {
        "colab": {
          "base_uri": "https://localhost:8080/"
        },
        "id": "iS5OBwmBm2ud",
        "outputId": "1763d169-ca99-4ee4-e0ed-885d86fafad2"
      },
      "execution_count": null,
      "outputs": [
        {
          "output_type": "stream",
          "name": "stdout",
          "text": [
            "Success\n"
          ]
        }
      ]
    },
    {
      "cell_type": "code",
      "source": [
        "checkbalanced(\"()()\")"
      ],
      "metadata": {
        "colab": {
          "base_uri": "https://localhost:8080/"
        },
        "id": "dIFYTQFMoU6W",
        "outputId": "4b630b26-d348-4917-c3ad-3569da653053"
      },
      "execution_count": null,
      "outputs": [
        {
          "output_type": "stream",
          "name": "stdout",
          "text": [
            "Success\n"
          ]
        }
      ]
    },
    {
      "cell_type": "code",
      "source": [
        "checkbalanced(\"({[]})\")"
      ],
      "metadata": {
        "colab": {
          "base_uri": "https://localhost:8080/"
        },
        "id": "GlSiwk_zof3J",
        "outputId": "c732ebc3-4945-4a28-eb37-eb29d8ccf906"
      },
      "execution_count": null,
      "outputs": [
        {
          "output_type": "stream",
          "name": "stdout",
          "text": [
            "Success\n"
          ]
        }
      ]
    },
    {
      "cell_type": "code",
      "source": [
        "checkbalanced(\"{a[a(){}\")"
      ],
      "metadata": {
        "colab": {
          "base_uri": "https://localhost:8080/"
        },
        "id": "FmsljPLQpoSS",
        "outputId": "02fd8fe9-7b8b-4b09-f8ea-24a1fe974077"
      },
      "execution_count": 6,
      "outputs": [
        {
          "output_type": "execute_result",
          "data": {
            "text/plain": [
              "1"
            ]
          },
          "metadata": {},
          "execution_count": 6
        }
      ]
    },
    {
      "cell_type": "code",
      "source": [
        "checkbalanced(\"abcd\")"
      ],
      "metadata": {
        "colab": {
          "base_uri": "https://localhost:8080/"
        },
        "id": "Nuj2EvOfqBJg",
        "outputId": "ae7bbe80-79fb-438a-a99e-cbae0fe75f7b"
      },
      "execution_count": 7,
      "outputs": [
        {
          "output_type": "stream",
          "name": "stdout",
          "text": [
            "Success\n"
          ]
        }
      ]
    },
    {
      "cell_type": "code",
      "source": [
        "checkbalanced(\"abcd())\")\n"
      ],
      "metadata": {
        "colab": {
          "base_uri": "https://localhost:8080/"
        },
        "id": "o2V3nv5mqXyt",
        "outputId": "c76f7c3a-6dca-47fa-b7dc-1d90caf715f2"
      },
      "execution_count": 8,
      "outputs": [
        {
          "output_type": "execute_result",
          "data": {
            "text/plain": [
              "7"
            ]
          },
          "metadata": {},
          "execution_count": 8
        }
      ]
    },
    {
      "cell_type": "code",
      "source": [
        "checkbalanced(\"}\")"
      ],
      "metadata": {
        "colab": {
          "base_uri": "https://localhost:8080/"
        },
        "id": "5T2RMVMsqeoi",
        "outputId": "4933b5c5-9231-4fd7-d24c-3956b7f657a0"
      },
      "execution_count": 9,
      "outputs": [
        {
          "output_type": "execute_result",
          "data": {
            "text/plain": [
              "1"
            ]
          },
          "metadata": {},
          "execution_count": 9
        }
      ]
    },
    {
      "cell_type": "code",
      "source": [
        "checkbalanced(\"({}]\")"
      ],
      "metadata": {
        "colab": {
          "base_uri": "https://localhost:8080/"
        },
        "id": "97NAz7-trETY",
        "outputId": "2f8b3337-11c0-4f40-afb8-f49fa229c9f7"
      },
      "execution_count": 14,
      "outputs": [
        {
          "output_type": "execute_result",
          "data": {
            "text/plain": [
              "2"
            ]
          },
          "metadata": {},
          "execution_count": 14
        }
      ]
    },
    {
      "cell_type": "code",
      "source": [
        "checkbalanced(\"abc{def)+1}]\")"
      ],
      "metadata": {
        "colab": {
          "base_uri": "https://localhost:8080/"
        },
        "id": "4UI5EnOX3LeU",
        "outputId": "4b0d4d7a-b619-4480-a05b-cecfd3eaf1b3"
      },
      "execution_count": 15,
      "outputs": [
        {
          "output_type": "execute_result",
          "data": {
            "text/plain": [
              "10"
            ]
          },
          "metadata": {},
          "execution_count": 15
        }
      ]
    },
    {
      "cell_type": "markdown",
      "source": [
        "# **Analysis and Conclusions:**\n",
        "It was quite a challenging problem for me but the whole approach was to balance the brackets in the given input string. If the brackets are balanced, the length of stack would be zero, as every matched closing bracket would lead to popping of the opening bracket which was appended initially. \n",
        "\n"
      ],
      "metadata": {
        "id": "TOlFJd2kmlBx"
      }
    },
    {
      "cell_type": "markdown",
      "source": [
        "## **Acknowledgments:**\n",
        "1) Geeksforgeeks- for basic outline of the code\n",
        "\n",
        "2) Ajinkya Pophale (my fellow classmate)- for guiding me how to output the index/position of unmatched brackets\n"
      ],
      "metadata": {
        "id": "5_1vzf3X5Pg5"
      }
    }
  ]
}